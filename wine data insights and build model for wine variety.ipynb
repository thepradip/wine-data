{
 "cells": [
  {
   "cell_type": "markdown",
   "metadata": {},
   "source": [
    "**1. Insights Into The Wine Dataset**\n",
    "- Top 5 Wine Producing Countries - Number Of Wines Produced\n",
    "- Top 5 Wineries Producing Countries - Number Of Wines Produced\n",
    "- Points Given To Wines Produced By Top 5 Wineries - Number Of Wines Produced\n",
    "- Points Given To Wines Belonging To Top 5 Varieties\n",
    "- Distribution Of Points Given To Top 5 Wine Varieties\n"
   ]
  },
  {
   "cell_type": "markdown",
   "metadata": {},
   "source": [
    "**2. Build a predictive model for predicting the wine “variety**\n",
    "- xgboost\n"
   ]
  },
  {
   "cell_type": "markdown",
   "metadata": {},
   "source": [
    "## Importing Libraries"
   ]
  },
  {
   "cell_type": "code",
   "execution_count": 34,
   "metadata": {},
   "outputs": [],
   "source": [
    "import pandas as pd\n",
    "import numpy as np\n",
    "import seaborn as sns\n",
    "import matplotlib.pyplot as plt"
   ]
  },
  {
   "cell_type": "markdown",
   "metadata": {},
   "source": [
    "## Importing Dataset"
   ]
  },
  {
   "cell_type": "code",
   "execution_count": 35,
   "metadata": {},
   "outputs": [],
   "source": [
    "dataset = pd.read_csv('Downloads/OSX_DS_assignment.csv')"
   ]
  },
  {
   "cell_type": "code",
   "execution_count": 36,
   "metadata": {},
   "outputs": [
    {
     "data": {
      "text/html": [
       "<div>\n",
       "<style scoped>\n",
       "    .dataframe tbody tr th:only-of-type {\n",
       "        vertical-align: middle;\n",
       "    }\n",
       "\n",
       "    .dataframe tbody tr th {\n",
       "        vertical-align: top;\n",
       "    }\n",
       "\n",
       "    .dataframe thead th {\n",
       "        text-align: right;\n",
       "    }\n",
       "</style>\n",
       "<table border=\"1\" class=\"dataframe\">\n",
       "  <thead>\n",
       "    <tr style=\"text-align: right;\">\n",
       "      <th></th>\n",
       "      <th>country</th>\n",
       "      <th>review_title</th>\n",
       "      <th>review_description</th>\n",
       "      <th>designation</th>\n",
       "      <th>points</th>\n",
       "      <th>price</th>\n",
       "      <th>province</th>\n",
       "      <th>region_1</th>\n",
       "      <th>region_2</th>\n",
       "      <th>winery</th>\n",
       "      <th>variety</th>\n",
       "    </tr>\n",
       "  </thead>\n",
       "  <tbody>\n",
       "    <tr>\n",
       "      <th>0</th>\n",
       "      <td>Italy</td>\n",
       "      <td>Nicosia 2013 Vulkà Bianco  (Etna)</td>\n",
       "      <td>Aromas include tropical fruit, broom, brimston...</td>\n",
       "      <td>Vulkà Bianco</td>\n",
       "      <td>87</td>\n",
       "      <td>NaN</td>\n",
       "      <td>Sicily &amp; Sardinia</td>\n",
       "      <td>Etna</td>\n",
       "      <td>NaN</td>\n",
       "      <td>Nicosia</td>\n",
       "      <td>White Blend</td>\n",
       "    </tr>\n",
       "    <tr>\n",
       "      <th>1</th>\n",
       "      <td>Portugal</td>\n",
       "      <td>Quinta dos Avidagos 2011 Avidagos Red (Douro)</td>\n",
       "      <td>This is ripe and fruity, a wine that is smooth...</td>\n",
       "      <td>Avidagos</td>\n",
       "      <td>87</td>\n",
       "      <td>15.0</td>\n",
       "      <td>Douro</td>\n",
       "      <td>NaN</td>\n",
       "      <td>NaN</td>\n",
       "      <td>Quinta dos Avidagos</td>\n",
       "      <td>Portuguese Red</td>\n",
       "    </tr>\n",
       "    <tr>\n",
       "      <th>2</th>\n",
       "      <td>US</td>\n",
       "      <td>Rainstorm 2013 Pinot Gris (Willamette Valley)</td>\n",
       "      <td>Tart and snappy, the flavors of lime flesh and...</td>\n",
       "      <td>NaN</td>\n",
       "      <td>87</td>\n",
       "      <td>14.0</td>\n",
       "      <td>Oregon</td>\n",
       "      <td>Willamette Valley</td>\n",
       "      <td>Willamette Valley</td>\n",
       "      <td>Rainstorm</td>\n",
       "      <td>Pinot Gris</td>\n",
       "    </tr>\n",
       "    <tr>\n",
       "      <th>3</th>\n",
       "      <td>US</td>\n",
       "      <td>St. Julian 2013 Reserve Late Harvest Riesling ...</td>\n",
       "      <td>Pineapple rind, lemon pith and orange blossom ...</td>\n",
       "      <td>Reserve Late Harvest</td>\n",
       "      <td>87</td>\n",
       "      <td>13.0</td>\n",
       "      <td>Michigan</td>\n",
       "      <td>Lake Michigan Shore</td>\n",
       "      <td>NaN</td>\n",
       "      <td>St. Julian</td>\n",
       "      <td>Riesling</td>\n",
       "    </tr>\n",
       "    <tr>\n",
       "      <th>4</th>\n",
       "      <td>US</td>\n",
       "      <td>Sweet Cheeks 2012 Vintner's Reserve Wild Child...</td>\n",
       "      <td>Much like the regular bottling from 2012, this...</td>\n",
       "      <td>Vintner's Reserve Wild Child Block</td>\n",
       "      <td>87</td>\n",
       "      <td>65.0</td>\n",
       "      <td>Oregon</td>\n",
       "      <td>Willamette Valley</td>\n",
       "      <td>Willamette Valley</td>\n",
       "      <td>Sweet Cheeks</td>\n",
       "      <td>Pinot Noir</td>\n",
       "    </tr>\n",
       "  </tbody>\n",
       "</table>\n",
       "</div>"
      ],
      "text/plain": [
       "    country                                       review_title  \\\n",
       "0     Italy                  Nicosia 2013 Vulkà Bianco  (Etna)   \n",
       "1  Portugal      Quinta dos Avidagos 2011 Avidagos Red (Douro)   \n",
       "2        US      Rainstorm 2013 Pinot Gris (Willamette Valley)   \n",
       "3        US  St. Julian 2013 Reserve Late Harvest Riesling ...   \n",
       "4        US  Sweet Cheeks 2012 Vintner's Reserve Wild Child...   \n",
       "\n",
       "                                  review_description  \\\n",
       "0  Aromas include tropical fruit, broom, brimston...   \n",
       "1  This is ripe and fruity, a wine that is smooth...   \n",
       "2  Tart and snappy, the flavors of lime flesh and...   \n",
       "3  Pineapple rind, lemon pith and orange blossom ...   \n",
       "4  Much like the regular bottling from 2012, this...   \n",
       "\n",
       "                          designation  points  price           province  \\\n",
       "0                        Vulkà Bianco      87    NaN  Sicily & Sardinia   \n",
       "1                            Avidagos      87   15.0              Douro   \n",
       "2                                 NaN      87   14.0             Oregon   \n",
       "3                Reserve Late Harvest      87   13.0           Michigan   \n",
       "4  Vintner's Reserve Wild Child Block      87   65.0             Oregon   \n",
       "\n",
       "              region_1           region_2               winery         variety  \n",
       "0                 Etna                NaN              Nicosia     White Blend  \n",
       "1                  NaN                NaN  Quinta dos Avidagos  Portuguese Red  \n",
       "2    Willamette Valley  Willamette Valley            Rainstorm      Pinot Gris  \n",
       "3  Lake Michigan Shore                NaN           St. Julian        Riesling  \n",
       "4    Willamette Valley  Willamette Valley         Sweet Cheeks      Pinot Noir  "
      ]
     },
     "execution_count": 36,
     "metadata": {},
     "output_type": "execute_result"
    }
   ],
   "source": [
    "dataset.drop(dataset.columns[0],axis = 1,inplace=True)\n",
    "dataset.head()"
   ]
  },
  {
   "cell_type": "code",
   "execution_count": 37,
   "metadata": {},
   "outputs": [
    {
     "data": {
      "text/plain": [
       "(103322, 11)"
      ]
     },
     "execution_count": 37,
     "metadata": {},
     "output_type": "execute_result"
    }
   ],
   "source": [
    "dataset.shape"
   ]
  },
  {
   "cell_type": "code",
   "execution_count": null,
   "metadata": {},
   "outputs": [],
   "source": []
  },
  {
   "cell_type": "code",
   "execution_count": 38,
   "metadata": {},
   "outputs": [
    {
     "name": "stdout",
     "output_type": "stream",
     "text": [
      "<class 'pandas.core.frame.DataFrame'>\n",
      "RangeIndex: 103322 entries, 0 to 103321\n",
      "Data columns (total 11 columns):\n",
      " #   Column              Non-Null Count   Dtype  \n",
      "---  ------              --------------   -----  \n",
      " 0   country             103283 non-null  object \n",
      " 1   review_title        103322 non-null  object \n",
      " 2   review_description  103322 non-null  object \n",
      " 3   designation         73686 non-null   object \n",
      " 4   points              103322 non-null  int64  \n",
      " 5   price               96359 non-null   float64\n",
      " 6   province            103283 non-null  object \n",
      " 7   region_1            87254 non-null   object \n",
      " 8   region_2            44863 non-null   object \n",
      " 9   winery              103322 non-null  object \n",
      " 10  variety             103322 non-null  object \n",
      "dtypes: float64(1), int64(1), object(9)\n",
      "memory usage: 8.7+ MB\n"
     ]
    }
   ],
   "source": [
    "dataset.info()"
   ]
  },
  {
   "cell_type": "markdown",
   "metadata": {},
   "source": [
    "<a id = 'section1'></a>"
   ]
  },
  {
   "cell_type": "markdown",
   "metadata": {},
   "source": [
    "## 1:Top 5 Wine Producing Countries with count"
   ]
  },
  {
   "cell_type": "code",
   "execution_count": 39,
   "metadata": {},
   "outputs": [
    {
     "data": {
      "text/html": [
       "<div>\n",
       "<style scoped>\n",
       "    .dataframe tbody tr th:only-of-type {\n",
       "        vertical-align: middle;\n",
       "    }\n",
       "\n",
       "    .dataframe tbody tr th {\n",
       "        vertical-align: top;\n",
       "    }\n",
       "\n",
       "    .dataframe thead th {\n",
       "        text-align: right;\n",
       "    }\n",
       "</style>\n",
       "<table border=\"1\" class=\"dataframe\">\n",
       "  <thead>\n",
       "    <tr style=\"text-align: right;\">\n",
       "      <th></th>\n",
       "      <th>Number Of Wines Produced</th>\n",
       "      <th>Country</th>\n",
       "    </tr>\n",
       "    <tr>\n",
       "      <th>Index</th>\n",
       "      <th></th>\n",
       "      <th></th>\n",
       "    </tr>\n",
       "  </thead>\n",
       "  <tbody>\n",
       "    <tr>\n",
       "      <th>0</th>\n",
       "      <td>48153</td>\n",
       "      <td>US</td>\n",
       "    </tr>\n",
       "    <tr>\n",
       "      <th>1</th>\n",
       "      <td>19932</td>\n",
       "      <td>France</td>\n",
       "    </tr>\n",
       "    <tr>\n",
       "      <th>2</th>\n",
       "      <td>11370</td>\n",
       "      <td>Italy</td>\n",
       "    </tr>\n",
       "    <tr>\n",
       "      <th>3</th>\n",
       "      <td>4038</td>\n",
       "      <td>Portugal</td>\n",
       "    </tr>\n",
       "    <tr>\n",
       "      <th>4</th>\n",
       "      <td>3630</td>\n",
       "      <td>Chile</td>\n",
       "    </tr>\n",
       "  </tbody>\n",
       "</table>\n",
       "</div>"
      ],
      "text/plain": [
       "       Number Of Wines Produced   Country\n",
       "Index                                    \n",
       "0                         48153        US\n",
       "1                         19932    France\n",
       "2                         11370     Italy\n",
       "3                          4038  Portugal\n",
       "4                          3630     Chile"
      ]
     },
     "execution_count": 39,
     "metadata": {},
     "output_type": "execute_result"
    }
   ],
   "source": [
    "countries_list = pd.DataFrame(dataset.country.value_counts(dropna = True)).iloc[0:5]\n",
    "countries_list['Index'] = list(range(0,5))\n",
    "countries_list['Country_Name'] = countries_list.index.values\n",
    "countries_list.set_index('Index',inplace = True)\n",
    "countries_list.columns = ['Number Of Wines Produced','Country']\n",
    "countries_list"
   ]
  },
  {
   "cell_type": "code",
   "execution_count": 40,
   "metadata": {},
   "outputs": [
    {
     "data": {
      "text/plain": [
       "Text(0.5, 0, 'Number Of Wines Produced')"
      ]
     },
     "execution_count": 40,
     "metadata": {},
     "output_type": "execute_result"
    },
    {
     "data": {
      "image/png": "[encoded data removed]",
      "text/plain": [
       "<Figure size 1440x576 with 1 Axes>"
      ]
     },
     "metadata": {
      "needs_background": "light"
     },
     "output_type": "display_data"
    }
   ],
   "source": [
    "fig, ax = plt.subplots(figsize=(20,8))\n",
    "sns.set(style=\"whitegrid\")\n",
    "ax = sns.barplot(y=\"Country\", x=\"Number Of Wines Produced\", data=countries_list)\n",
    "plt.title(\"Top 5 Countries Producing Wine\",fontsize = 25)\n",
    "plt.ylabel(\"Country\",fontsize = 20)\n",
    "plt.xlabel(\"Number Of Wines Produced\",fontsize = 20)"
   ]
  },
  {
   "cell_type": "markdown",
   "metadata": {},
   "source": [
    "<a id = 'section2'></a>"
   ]
  },
  {
   "cell_type": "markdown",
   "metadata": {},
   "source": [
    "## 2:Top 5 Wineries Producing - Number Of Wines Produced"
   ]
  },
  {
   "cell_type": "code",
   "execution_count": 41,
   "metadata": {},
   "outputs": [
    {
     "data": {
      "text/html": [
       "<div>\n",
       "<style scoped>\n",
       "    .dataframe tbody tr th:only-of-type {\n",
       "        vertical-align: middle;\n",
       "    }\n",
       "\n",
       "    .dataframe tbody tr th {\n",
       "        vertical-align: top;\n",
       "    }\n",
       "\n",
       "    .dataframe thead th {\n",
       "        text-align: right;\n",
       "    }\n",
       "</style>\n",
       "<table border=\"1\" class=\"dataframe\">\n",
       "  <thead>\n",
       "    <tr style=\"text-align: right;\">\n",
       "      <th></th>\n",
       "      <th>Number Of Wines Produced</th>\n",
       "      <th>Winery</th>\n",
       "    </tr>\n",
       "    <tr>\n",
       "      <th>Index</th>\n",
       "      <th></th>\n",
       "      <th></th>\n",
       "    </tr>\n",
       "  </thead>\n",
       "  <tbody>\n",
       "    <tr>\n",
       "      <th>0</th>\n",
       "      <td>217</td>\n",
       "      <td>Testarossa</td>\n",
       "    </tr>\n",
       "    <tr>\n",
       "      <th>1</th>\n",
       "      <td>203</td>\n",
       "      <td>Williams Selyem</td>\n",
       "    </tr>\n",
       "    <tr>\n",
       "      <th>2</th>\n",
       "      <td>199</td>\n",
       "      <td>Louis Latour</td>\n",
       "    </tr>\n",
       "    <tr>\n",
       "      <th>3</th>\n",
       "      <td>195</td>\n",
       "      <td>Georges Duboeuf</td>\n",
       "    </tr>\n",
       "    <tr>\n",
       "      <th>4</th>\n",
       "      <td>187</td>\n",
       "      <td>Chateau Ste. Michelle</td>\n",
       "    </tr>\n",
       "  </tbody>\n",
       "</table>\n",
       "</div>"
      ],
      "text/plain": [
       "       Number Of Wines Produced                 Winery\n",
       "Index                                                 \n",
       "0                           217             Testarossa\n",
       "1                           203        Williams Selyem\n",
       "2                           199           Louis Latour\n",
       "3                           195        Georges Duboeuf\n",
       "4                           187  Chateau Ste. Michelle"
      ]
     },
     "execution_count": 41,
     "metadata": {},
     "output_type": "execute_result"
    }
   ],
   "source": [
    "winery_list = pd.DataFrame(dataset.winery.value_counts(dropna = True)).iloc[0:5]\n",
    "winery_list['Index'] = list(range(0,5))\n",
    "winery_list['Winery_Name'] = winery_list.index.values\n",
    "winery_list.set_index('Index',inplace = True)\n",
    "winery_list.columns = ['Number Of Wines Produced','Winery']\n",
    "winery_list"
   ]
  },
  {
   "cell_type": "code",
   "execution_count": 42,
   "metadata": {},
   "outputs": [
    {
     "data": {
      "text/plain": [
       "Text(0.5, 0, 'Number Of Wines Produced')"
      ]
     },
     "execution_count": 42,
     "metadata": {},
     "output_type": "execute_result"
    },
    {
     "data": {
      "image/png": "[encoded data removed]",
      "text/plain": [
       "<Figure size 1440x576 with 1 Axes>"
      ]
     },
     "metadata": {},
     "output_type": "display_data"
    }
   ],
   "source": [
    "fig, ax = plt.subplots(figsize=(20,8))\n",
    "sns.set(style=\"whitegrid\")\n",
    "sns.barplot(y=\"Winery\", x=\"Number Of Wines Produced\", data=winery_list)\n",
    "plt.title(\"Top 5 Wineries Producing Wine\",fontsize = 25)\n",
    "plt.ylabel(\"Winery\",fontsize = 20)\n",
    "plt.xlabel(\"Number Of Wines Produced\",fontsize = 20)"
   ]
  },
  {
   "cell_type": "markdown",
   "metadata": {},
   "source": [
    "<a id = 'section3'></a>"
   ]
  },
  {
   "cell_type": "markdown",
   "metadata": {},
   "source": [
    "<a id = 'section5'></a>"
   ]
  },
  {
   "cell_type": "markdown",
   "metadata": {},
   "source": [
    "## 3:Points Given To Wines Belonging To Top 5 Varieties"
   ]
  },
  {
   "cell_type": "code",
   "execution_count": 43,
   "metadata": {
    "scrolled": true
   },
   "outputs": [
    {
     "data": {
      "text/html": [
       "<div>\n",
       "<style scoped>\n",
       "    .dataframe tbody tr th:only-of-type {\n",
       "        vertical-align: middle;\n",
       "    }\n",
       "\n",
       "    .dataframe tbody tr th {\n",
       "        vertical-align: top;\n",
       "    }\n",
       "\n",
       "    .dataframe thead th {\n",
       "        text-align: right;\n",
       "    }\n",
       "</style>\n",
       "<table border=\"1\" class=\"dataframe\">\n",
       "  <thead>\n",
       "    <tr style=\"text-align: right;\">\n",
       "      <th></th>\n",
       "      <th>variety</th>\n",
       "      <th>Variety_Name</th>\n",
       "    </tr>\n",
       "    <tr>\n",
       "      <th>Index</th>\n",
       "      <th></th>\n",
       "      <th></th>\n",
       "    </tr>\n",
       "  </thead>\n",
       "  <tbody>\n",
       "    <tr>\n",
       "      <th>0</th>\n",
       "      <td>13272</td>\n",
       "      <td>Pinot Noir</td>\n",
       "    </tr>\n",
       "    <tr>\n",
       "      <th>1</th>\n",
       "      <td>11753</td>\n",
       "      <td>Chardonnay</td>\n",
       "    </tr>\n",
       "    <tr>\n",
       "      <th>2</th>\n",
       "      <td>9472</td>\n",
       "      <td>Cabernet Sauvignon</td>\n",
       "    </tr>\n",
       "    <tr>\n",
       "      <th>3</th>\n",
       "      <td>8946</td>\n",
       "      <td>Red Blend</td>\n",
       "    </tr>\n",
       "    <tr>\n",
       "      <th>4</th>\n",
       "      <td>6915</td>\n",
       "      <td>Bordeaux-style Red Blend</td>\n",
       "    </tr>\n",
       "  </tbody>\n",
       "</table>\n",
       "</div>"
      ],
      "text/plain": [
       "       variety              Variety_Name\n",
       "Index                                   \n",
       "0        13272                Pinot Noir\n",
       "1        11753                Chardonnay\n",
       "2         9472        Cabernet Sauvignon\n",
       "3         8946                 Red Blend\n",
       "4         6915  Bordeaux-style Red Blend"
      ]
     },
     "execution_count": 43,
     "metadata": {},
     "output_type": "execute_result"
    }
   ],
   "source": [
    "top_variety = pd.DataFrame(dataset['variety'].value_counts()[0:5])\n",
    "top_variety['Index'] = list(range(0,5))\n",
    "top_variety['Variety_Name'] = top_variety.index.values\n",
    "top_variety.set_index('Index',inplace = True)\n",
    "top_variety"
   ]
  },
  {
   "cell_type": "code",
   "execution_count": 44,
   "metadata": {},
   "outputs": [
    {
     "data": {
      "text/plain": [
       "Text(0.5, 1.0, 'Points Given To Wines Belonging To Top 5 Varieties')"
      ]
     },
     "execution_count": 44,
     "metadata": {},
     "output_type": "execute_result"
    },
    {
     "data": {
      "image/png": "[encoded data removed]",
      "text/plain": [
       "<Figure size 1800x1080 with 1 Axes>"
      ]
     },
     "metadata": {},
     "output_type": "display_data"
    }
   ],
   "source": [
    "varieties_points = dataset[['points','variety']]\n",
    "varieties_points = varieties_points[varieties_points.variety.isin(top_variety.Variety_Name)]\n",
    "fig, ax = plt.subplots(figsize=(25,15))\n",
    "sns.set_style(\"whitegrid\")\n",
    "sns.violinplot(x=\"variety\", y=\"points\", data=varieties_points)\n",
    "plt.ylabel(\"Points\",fontsize = 25)\n",
    "plt.xlabel(\"Varieties\",fontsize = 25)\n",
    "plt.title(\"Points Given To Wines Belonging To Top 5 Varieties\",fontsize = 30)"
   ]
  },
  {
   "cell_type": "markdown",
   "metadata": {},
   "source": [
    "<a id = 'section6'></a>"
   ]
  },
  {
   "cell_type": "markdown",
   "metadata": {},
   "source": [
    "## 4:Distribution Of Points Given To Top 5 Wine Varieties"
   ]
  },
  {
   "cell_type": "code",
   "execution_count": 45,
   "metadata": {},
   "outputs": [
    {
     "data": {
      "text/html": [
       "<div>\n",
       "<style scoped>\n",
       "    .dataframe tbody tr th:only-of-type {\n",
       "        vertical-align: middle;\n",
       "    }\n",
       "\n",
       "    .dataframe tbody tr th {\n",
       "        vertical-align: top;\n",
       "    }\n",
       "\n",
       "    .dataframe thead th {\n",
       "        text-align: right;\n",
       "    }\n",
       "</style>\n",
       "<table border=\"1\" class=\"dataframe\">\n",
       "  <thead>\n",
       "    <tr style=\"text-align: right;\">\n",
       "      <th></th>\n",
       "      <th>Pinot Noir</th>\n",
       "      <th>Chardonnay</th>\n",
       "      <th>Cabernet Sauvignon</th>\n",
       "      <th>Red Blend</th>\n",
       "      <th>Bordeaux-style Red Blend</th>\n",
       "    </tr>\n",
       "    <tr>\n",
       "      <th>points</th>\n",
       "      <th></th>\n",
       "      <th></th>\n",
       "      <th></th>\n",
       "      <th></th>\n",
       "      <th></th>\n",
       "    </tr>\n",
       "  </thead>\n",
       "  <tbody>\n",
       "    <tr>\n",
       "      <th>80</th>\n",
       "      <td>16.0</td>\n",
       "      <td>46</td>\n",
       "      <td>41</td>\n",
       "      <td>25.0</td>\n",
       "      <td>3</td>\n",
       "    </tr>\n",
       "    <tr>\n",
       "      <th>81</th>\n",
       "      <td>39.0</td>\n",
       "      <td>86</td>\n",
       "      <td>82</td>\n",
       "      <td>56.0</td>\n",
       "      <td>23</td>\n",
       "    </tr>\n",
       "    <tr>\n",
       "      <th>82</th>\n",
       "      <td>150.0</td>\n",
       "      <td>222</td>\n",
       "      <td>176</td>\n",
       "      <td>114.0</td>\n",
       "      <td>45</td>\n",
       "    </tr>\n",
       "    <tr>\n",
       "      <th>83</th>\n",
       "      <td>197.0</td>\n",
       "      <td>350</td>\n",
       "      <td>246</td>\n",
       "      <td>184.0</td>\n",
       "      <td>127</td>\n",
       "    </tr>\n",
       "    <tr>\n",
       "      <th>84</th>\n",
       "      <td>452.0</td>\n",
       "      <td>733</td>\n",
       "      <td>507</td>\n",
       "      <td>350.0</td>\n",
       "      <td>310</td>\n",
       "    </tr>\n",
       "    <tr>\n",
       "      <th>85</th>\n",
       "      <td>684.0</td>\n",
       "      <td>954</td>\n",
       "      <td>687</td>\n",
       "      <td>512.0</td>\n",
       "      <td>450</td>\n",
       "    </tr>\n",
       "    <tr>\n",
       "      <th>86</th>\n",
       "      <td>969.0</td>\n",
       "      <td>1125</td>\n",
       "      <td>859</td>\n",
       "      <td>832.0</td>\n",
       "      <td>523</td>\n",
       "    </tr>\n",
       "    <tr>\n",
       "      <th>87</th>\n",
       "      <td>1328.0</td>\n",
       "      <td>1467</td>\n",
       "      <td>1128</td>\n",
       "      <td>1325.0</td>\n",
       "      <td>710</td>\n",
       "    </tr>\n",
       "    <tr>\n",
       "      <th>88</th>\n",
       "      <td>1434.0</td>\n",
       "      <td>1392</td>\n",
       "      <td>1064</td>\n",
       "      <td>1351.0</td>\n",
       "      <td>849</td>\n",
       "    </tr>\n",
       "    <tr>\n",
       "      <th>89</th>\n",
       "      <td>1111.0</td>\n",
       "      <td>859</td>\n",
       "      <td>697</td>\n",
       "      <td>1053.0</td>\n",
       "      <td>652</td>\n",
       "    </tr>\n",
       "    <tr>\n",
       "      <th>90</th>\n",
       "      <td>1559.0</td>\n",
       "      <td>1336</td>\n",
       "      <td>1102</td>\n",
       "      <td>1150.0</td>\n",
       "      <td>828</td>\n",
       "    </tr>\n",
       "    <tr>\n",
       "      <th>91</th>\n",
       "      <td>1474.0</td>\n",
       "      <td>986</td>\n",
       "      <td>880</td>\n",
       "      <td>757.0</td>\n",
       "      <td>823</td>\n",
       "    </tr>\n",
       "    <tr>\n",
       "      <th>92</th>\n",
       "      <td>1528.0</td>\n",
       "      <td>897</td>\n",
       "      <td>777</td>\n",
       "      <td>624.0</td>\n",
       "      <td>588</td>\n",
       "    </tr>\n",
       "    <tr>\n",
       "      <th>93</th>\n",
       "      <td>1173.0</td>\n",
       "      <td>671</td>\n",
       "      <td>567</td>\n",
       "      <td>353.0</td>\n",
       "      <td>429</td>\n",
       "    </tr>\n",
       "    <tr>\n",
       "      <th>94</th>\n",
       "      <td>753.0</td>\n",
       "      <td>373</td>\n",
       "      <td>383</td>\n",
       "      <td>161.0</td>\n",
       "      <td>299</td>\n",
       "    </tr>\n",
       "    <tr>\n",
       "      <th>95</th>\n",
       "      <td>273.0</td>\n",
       "      <td>176</td>\n",
       "      <td>170</td>\n",
       "      <td>53.0</td>\n",
       "      <td>132</td>\n",
       "    </tr>\n",
       "    <tr>\n",
       "      <th>96</th>\n",
       "      <td>89.0</td>\n",
       "      <td>50</td>\n",
       "      <td>59</td>\n",
       "      <td>20.0</td>\n",
       "      <td>60</td>\n",
       "    </tr>\n",
       "    <tr>\n",
       "      <th>97</th>\n",
       "      <td>28.0</td>\n",
       "      <td>19</td>\n",
       "      <td>27</td>\n",
       "      <td>10.0</td>\n",
       "      <td>40</td>\n",
       "    </tr>\n",
       "    <tr>\n",
       "      <th>98</th>\n",
       "      <td>10.0</td>\n",
       "      <td>4</td>\n",
       "      <td>12</td>\n",
       "      <td>3.0</td>\n",
       "      <td>14</td>\n",
       "    </tr>\n",
       "    <tr>\n",
       "      <th>99</th>\n",
       "      <td>2.0</td>\n",
       "      <td>3</td>\n",
       "      <td>5</td>\n",
       "      <td>2.0</td>\n",
       "      <td>5</td>\n",
       "    </tr>\n",
       "    <tr>\n",
       "      <th>100</th>\n",
       "      <td>NaN</td>\n",
       "      <td>1</td>\n",
       "      <td>1</td>\n",
       "      <td>NaN</td>\n",
       "      <td>5</td>\n",
       "    </tr>\n",
       "  </tbody>\n",
       "</table>\n",
       "</div>"
      ],
      "text/plain": [
       "        Pinot Noir  Chardonnay  Cabernet Sauvignon  Red Blend  \\\n",
       "points                                                          \n",
       "80            16.0          46                  41       25.0   \n",
       "81            39.0          86                  82       56.0   \n",
       "82           150.0         222                 176      114.0   \n",
       "83           197.0         350                 246      184.0   \n",
       "84           452.0         733                 507      350.0   \n",
       "85           684.0         954                 687      512.0   \n",
       "86           969.0        1125                 859      832.0   \n",
       "87          1328.0        1467                1128     1325.0   \n",
       "88          1434.0        1392                1064     1351.0   \n",
       "89          1111.0         859                 697     1053.0   \n",
       "90          1559.0        1336                1102     1150.0   \n",
       "91          1474.0         986                 880      757.0   \n",
       "92          1528.0         897                 777      624.0   \n",
       "93          1173.0         671                 567      353.0   \n",
       "94           753.0         373                 383      161.0   \n",
       "95           273.0         176                 170       53.0   \n",
       "96            89.0          50                  59       20.0   \n",
       "97            28.0          19                  27       10.0   \n",
       "98            10.0           4                  12        3.0   \n",
       "99             2.0           3                   5        2.0   \n",
       "100            NaN           1                   1        NaN   \n",
       "\n",
       "        Bordeaux-style Red Blend  \n",
       "points                            \n",
       "80                             3  \n",
       "81                            23  \n",
       "82                            45  \n",
       "83                           127  \n",
       "84                           310  \n",
       "85                           450  \n",
       "86                           523  \n",
       "87                           710  \n",
       "88                           849  \n",
       "89                           652  \n",
       "90                           828  \n",
       "91                           823  \n",
       "92                           588  \n",
       "93                           429  \n",
       "94                           299  \n",
       "95                           132  \n",
       "96                            60  \n",
       "97                            40  \n",
       "98                            14  \n",
       "99                             5  \n",
       "100                            5  "
      ]
     },
     "execution_count": 45,
     "metadata": {},
     "output_type": "execute_result"
    }
   ],
   "source": [
    "res = pd.DataFrame(dataset[dataset['variety'] == 'Pinot Noir'].groupby('points').count()).iloc[:,0]\n",
    "variety_points_dist = res\n",
    "res = pd.DataFrame(dataset[dataset['variety'] == 'Chardonnay'].groupby('points').count()).iloc[:,0]\n",
    "variety_points_dist = pd.concat([variety_points_dist,res],axis = 1)\n",
    "res = pd.DataFrame(dataset[dataset['variety'] == 'Cabernet Sauvignon'].groupby('points').count()).iloc[:,0]\n",
    "variety_points_dist = pd.concat([variety_points_dist,res],axis = 1)\n",
    "res = pd.DataFrame(dataset[dataset['variety'] == 'Red Blend'].groupby('points').count()).iloc[:,0]\n",
    "variety_points_dist = pd.concat([variety_points_dist,res],axis = 1)\n",
    "res = pd.DataFrame(dataset[dataset['variety'] == 'Bordeaux-style Red Blend'].groupby('points').count()).iloc[:,0]\n",
    "variety_points_dist = pd.concat([variety_points_dist,res],axis = 1)\n",
    "variety_points_dist.columns = ['Pinot Noir','Chardonnay','Cabernet Sauvignon','Red Blend','Bordeaux-style Red Blend']\n",
    "variety_points_dist"
   ]
  },
  {
   "cell_type": "code",
   "execution_count": 46,
   "metadata": {},
   "outputs": [
    {
     "data": {
      "text/plain": [
       "Text(0.5, 0, 'Points')"
      ]
     },
     "execution_count": 46,
     "metadata": {},
     "output_type": "execute_result"
    },
    {
     "data": {
      "image/png": "[encoded data removed]",
      "text/plain": [
       "<Figure size 1080x576 with 1 Axes>"
      ]
     },
     "metadata": {},
     "output_type": "display_data"
    }
   ],
   "source": [
    "variety_points_dist.plot.bar(stacked = True,figsize = (15,8),grid = False)\n",
    "plt.title(\"Visualising Points For Top 5 Wine Varieties\",fontsize = 25)\n",
    "plt.xlabel(\"Points\",fontsize = 20)"
   ]
  },
  {
   "cell_type": "markdown",
   "metadata": {},
   "source": [
    "<a id = 'section9'></a>"
   ]
  },
  {
   "cell_type": "markdown",
   "metadata": {},
   "source": [
    "## 5:Top 5 Wine Producing Countries - Highest Rated"
   ]
  },
  {
   "cell_type": "code",
   "execution_count": 47,
   "metadata": {},
   "outputs": [
    {
     "data": {
      "text/html": [
       "<div>\n",
       "<style scoped>\n",
       "    .dataframe tbody tr th:only-of-type {\n",
       "        vertical-align: middle;\n",
       "    }\n",
       "\n",
       "    .dataframe tbody tr th {\n",
       "        vertical-align: top;\n",
       "    }\n",
       "\n",
       "    .dataframe thead th {\n",
       "        text-align: right;\n",
       "    }\n",
       "</style>\n",
       "<table border=\"1\" class=\"dataframe\">\n",
       "  <thead>\n",
       "    <tr style=\"text-align: right;\">\n",
       "      <th></th>\n",
       "      <th>points</th>\n",
       "      <th>Country</th>\n",
       "    </tr>\n",
       "    <tr>\n",
       "      <th>Index</th>\n",
       "      <th></th>\n",
       "      <th></th>\n",
       "    </tr>\n",
       "  </thead>\n",
       "  <tbody>\n",
       "    <tr>\n",
       "      <th>0</th>\n",
       "      <td>91.581081</td>\n",
       "      <td>England</td>\n",
       "    </tr>\n",
       "    <tr>\n",
       "      <th>1</th>\n",
       "      <td>90.312060</td>\n",
       "      <td>Austria</td>\n",
       "    </tr>\n",
       "    <tr>\n",
       "      <th>2</th>\n",
       "      <td>89.970165</td>\n",
       "      <td>Germany</td>\n",
       "    </tr>\n",
       "    <tr>\n",
       "      <th>3</th>\n",
       "      <td>89.500000</td>\n",
       "      <td>India</td>\n",
       "    </tr>\n",
       "    <tr>\n",
       "      <th>4</th>\n",
       "      <td>89.311321</td>\n",
       "      <td>Canada</td>\n",
       "    </tr>\n",
       "  </tbody>\n",
       "</table>\n",
       "</div>"
      ],
      "text/plain": [
       "          points  Country\n",
       "Index                    \n",
       "0      91.581081  England\n",
       "1      90.312060  Austria\n",
       "2      89.970165  Germany\n",
       "3      89.500000    India\n",
       "4      89.311321   Canada"
      ]
     },
     "execution_count": 47,
     "metadata": {},
     "output_type": "execute_result"
    }
   ],
   "source": [
    "top_5_countries_pw = dataset.groupby('country').mean().sort_values(by = ['points'],ascending = False)\n",
    "top_5_countries_pw = pd.DataFrame(top_5_countries_pw.iloc[0:5,0])\n",
    "top_5_countries_pw['Index'] = list(range(5))\n",
    "top_5_countries_pw['Country'] = top_5_countries_pw.index.values\n",
    "top_5_countries_pw.set_index(['Index'],inplace = True)\n",
    "top_5_countries_pw"
   ]
  },
  {
   "cell_type": "code",
   "execution_count": 48,
   "metadata": {
    "scrolled": true
   },
   "outputs": [
    {
     "data": {
      "text/html": [
       "<div>\n",
       "<style scoped>\n",
       "    .dataframe tbody tr th:only-of-type {\n",
       "        vertical-align: middle;\n",
       "    }\n",
       "\n",
       "    .dataframe tbody tr th {\n",
       "        vertical-align: top;\n",
       "    }\n",
       "\n",
       "    .dataframe thead th {\n",
       "        text-align: right;\n",
       "    }\n",
       "</style>\n",
       "<table border=\"1\" class=\"dataframe\">\n",
       "  <thead>\n",
       "    <tr style=\"text-align: right;\">\n",
       "      <th></th>\n",
       "      <th>Country</th>\n",
       "      <th>Number Of Wines Produced</th>\n",
       "    </tr>\n",
       "    <tr>\n",
       "      <th>Index</th>\n",
       "      <th></th>\n",
       "      <th></th>\n",
       "    </tr>\n",
       "  </thead>\n",
       "  <tbody>\n",
       "    <tr>\n",
       "      <th>3</th>\n",
       "      <td>Austria</td>\n",
       "      <td>2413</td>\n",
       "    </tr>\n",
       "    <tr>\n",
       "      <th>6</th>\n",
       "      <td>Canada</td>\n",
       "      <td>212</td>\n",
       "    </tr>\n",
       "    <tr>\n",
       "      <th>11</th>\n",
       "      <td>England</td>\n",
       "      <td>74</td>\n",
       "    </tr>\n",
       "    <tr>\n",
       "      <th>14</th>\n",
       "      <td>Germany</td>\n",
       "      <td>1944</td>\n",
       "    </tr>\n",
       "    <tr>\n",
       "      <th>17</th>\n",
       "      <td>India</td>\n",
       "      <td>2</td>\n",
       "    </tr>\n",
       "  </tbody>\n",
       "</table>\n",
       "</div>"
      ],
      "text/plain": [
       "       Country  Number Of Wines Produced\n",
       "Index                                   \n",
       "3      Austria                      2413\n",
       "6       Canada                       212\n",
       "11     England                        74\n",
       "14     Germany                      1944\n",
       "17       India                         2"
      ]
     },
     "execution_count": 48,
     "metadata": {},
     "output_type": "execute_result"
    }
   ],
   "source": [
    "top_5_countries_cnt = dataset.groupby('country').count()\n",
    "top_5_countries_cnt['Index'] = list(range(len(top_5_countries_cnt)))\n",
    "top_5_countries_cnt['Country'] = top_5_countries_cnt.index.values\n",
    "top_5_countries_cnt.set_index(['Index'],inplace = True)\n",
    "top_5_countries_cnt = top_5_countries_cnt[top_5_countries_cnt.Country.isin(top_5_countries_pw.Country)]\n",
    "disp = top_5_countries_cnt[['Country','winery']]\n",
    "disp.columns = ['Country','Number Of Wines Produced']\n",
    "disp"
   ]
  },
  {
   "cell_type": "code",
   "execution_count": 49,
   "metadata": {
    "scrolled": false
   },
   "outputs": [
    {
     "data": {
      "text/plain": [
       "Text(0.5, 0, 'Number Of Wines Produced')"
      ]
     },
     "execution_count": 49,
     "metadata": {},
     "output_type": "execute_result"
    },
    {
     "data": {
      "image/png": "[encoded data removed]",
      "text/plain": [
       "<Figure size 1440x576 with 1 Axes>"
      ]
     },
     "metadata": {},
     "output_type": "display_data"
    }
   ],
   "source": [
    "fig, ax = plt.subplots(figsize=(20,8))\n",
    "sns.set(style=\"whitegrid\")\n",
    "ax = sns.barplot(y=\"Country\", x=\"variety\", data=top_5_countries_cnt)\n",
    "plt.title(\"Top 5 Wine Producing Countries\",fontsize = 25)\n",
    "plt.ylabel(\"Country Name\",fontsize = 20)\n",
    "plt.xlabel(\"Number Of Wines Produced\",fontsize = 20)"
   ]
  },
  {
   "cell_type": "markdown",
   "metadata": {},
   "source": [
    "# build prediction model on wine variety"
   ]
  },
  {
   "cell_type": "markdown",
   "metadata": {},
   "source": [
    "<a id = 'section10'></a>"
   ]
  },
  {
   "cell_type": "code",
   "execution_count": 1,
   "metadata": {
    "_uuid": "0697ad95d73e3247351b2039066a70aa27c69ccd"
   },
   "outputs": [],
   "source": [
    "import pandas as pd\n",
    "import numpy as np\n",
    "from sklearn.preprocessing import LabelEncoder\n",
    "from nltk.corpus import stopwords\n",
    "import re\n",
    "from sklearn.feature_extraction.text import CountVectorizer\n",
    "from sklearn.model_selection import train_test_split\n",
    "from keras.models import Sequential\n",
    "from keras.layers import Dense\n",
    "sw = stopwords.words('english')"
   ]
  },
  {
   "cell_type": "code",
   "execution_count": 2,
   "metadata": {
    "_uuid": "f49dfabbcda52f1694c397a6c85fbc6bc0e81ee3"
   },
   "outputs": [],
   "source": [
    "dataset = pd.read_csv('Downloads/OSX_DS_assignment.csv')"
   ]
  },
  {
   "cell_type": "code",
   "execution_count": 3,
   "metadata": {
    "_uuid": "b2297b17208d8094bd3f452f90a297866e5899c4"
   },
   "outputs": [
    {
     "data": {
      "text/html": [
       "<div>\n",
       "<style scoped>\n",
       "    .dataframe tbody tr th:only-of-type {\n",
       "        vertical-align: middle;\n",
       "    }\n",
       "\n",
       "    .dataframe tbody tr th {\n",
       "        vertical-align: top;\n",
       "    }\n",
       "\n",
       "    .dataframe thead th {\n",
       "        text-align: right;\n",
       "    }\n",
       "</style>\n",
       "<table border=\"1\" class=\"dataframe\">\n",
       "  <thead>\n",
       "    <tr style=\"text-align: right;\">\n",
       "      <th></th>\n",
       "      <th>user_name</th>\n",
       "      <th>country</th>\n",
       "      <th>review_title</th>\n",
       "      <th>review_description</th>\n",
       "      <th>designation</th>\n",
       "      <th>points</th>\n",
       "      <th>price</th>\n",
       "      <th>province</th>\n",
       "      <th>region_1</th>\n",
       "      <th>region_2</th>\n",
       "      <th>winery</th>\n",
       "      <th>variety</th>\n",
       "    </tr>\n",
       "  </thead>\n",
       "  <tbody>\n",
       "    <tr>\n",
       "      <th>0</th>\n",
       "      <td>@kerinokeefe</td>\n",
       "      <td>Italy</td>\n",
       "      <td>Nicosia 2013 Vulkà Bianco  (Etna)</td>\n",
       "      <td>Aromas include tropical fruit, broom, brimston...</td>\n",
       "      <td>Vulkà Bianco</td>\n",
       "      <td>87</td>\n",
       "      <td>NaN</td>\n",
       "      <td>Sicily &amp; Sardinia</td>\n",
       "      <td>Etna</td>\n",
       "      <td>NaN</td>\n",
       "      <td>Nicosia</td>\n",
       "      <td>White Blend</td>\n",
       "    </tr>\n",
       "    <tr>\n",
       "      <th>1</th>\n",
       "      <td>@vossroger</td>\n",
       "      <td>Portugal</td>\n",
       "      <td>Quinta dos Avidagos 2011 Avidagos Red (Douro)</td>\n",
       "      <td>This is ripe and fruity, a wine that is smooth...</td>\n",
       "      <td>Avidagos</td>\n",
       "      <td>87</td>\n",
       "      <td>15.0</td>\n",
       "      <td>Douro</td>\n",
       "      <td>NaN</td>\n",
       "      <td>NaN</td>\n",
       "      <td>Quinta dos Avidagos</td>\n",
       "      <td>Portuguese Red</td>\n",
       "    </tr>\n",
       "    <tr>\n",
       "      <th>2</th>\n",
       "      <td>@paulgwine</td>\n",
       "      <td>US</td>\n",
       "      <td>Rainstorm 2013 Pinot Gris (Willamette Valley)</td>\n",
       "      <td>Tart and snappy, the flavors of lime flesh and...</td>\n",
       "      <td>NaN</td>\n",
       "      <td>87</td>\n",
       "      <td>14.0</td>\n",
       "      <td>Oregon</td>\n",
       "      <td>Willamette Valley</td>\n",
       "      <td>Willamette Valley</td>\n",
       "      <td>Rainstorm</td>\n",
       "      <td>Pinot Gris</td>\n",
       "    </tr>\n",
       "    <tr>\n",
       "      <th>3</th>\n",
       "      <td>NaN</td>\n",
       "      <td>US</td>\n",
       "      <td>St. Julian 2013 Reserve Late Harvest Riesling ...</td>\n",
       "      <td>Pineapple rind, lemon pith and orange blossom ...</td>\n",
       "      <td>Reserve Late Harvest</td>\n",
       "      <td>87</td>\n",
       "      <td>13.0</td>\n",
       "      <td>Michigan</td>\n",
       "      <td>Lake Michigan Shore</td>\n",
       "      <td>NaN</td>\n",
       "      <td>St. Julian</td>\n",
       "      <td>Riesling</td>\n",
       "    </tr>\n",
       "    <tr>\n",
       "      <th>4</th>\n",
       "      <td>@paulgwine</td>\n",
       "      <td>US</td>\n",
       "      <td>Sweet Cheeks 2012 Vintner's Reserve Wild Child...</td>\n",
       "      <td>Much like the regular bottling from 2012, this...</td>\n",
       "      <td>Vintner's Reserve Wild Child Block</td>\n",
       "      <td>87</td>\n",
       "      <td>65.0</td>\n",
       "      <td>Oregon</td>\n",
       "      <td>Willamette Valley</td>\n",
       "      <td>Willamette Valley</td>\n",
       "      <td>Sweet Cheeks</td>\n",
       "      <td>Pinot Noir</td>\n",
       "    </tr>\n",
       "  </tbody>\n",
       "</table>\n",
       "</div>"
      ],
      "text/plain": [
       "      user_name   country                                       review_title  \\\n",
       "0  @kerinokeefe     Italy                  Nicosia 2013 Vulkà Bianco  (Etna)   \n",
       "1    @vossroger  Portugal      Quinta dos Avidagos 2011 Avidagos Red (Douro)   \n",
       "2   @paulgwine         US      Rainstorm 2013 Pinot Gris (Willamette Valley)   \n",
       "3           NaN        US  St. Julian 2013 Reserve Late Harvest Riesling ...   \n",
       "4   @paulgwine         US  Sweet Cheeks 2012 Vintner's Reserve Wild Child...   \n",
       "\n",
       "                                  review_description  \\\n",
       "0  Aromas include tropical fruit, broom, brimston...   \n",
       "1  This is ripe and fruity, a wine that is smooth...   \n",
       "2  Tart and snappy, the flavors of lime flesh and...   \n",
       "3  Pineapple rind, lemon pith and orange blossom ...   \n",
       "4  Much like the regular bottling from 2012, this...   \n",
       "\n",
       "                          designation  points  price           province  \\\n",
       "0                        Vulkà Bianco      87    NaN  Sicily & Sardinia   \n",
       "1                            Avidagos      87   15.0              Douro   \n",
       "2                                 NaN      87   14.0             Oregon   \n",
       "3                Reserve Late Harvest      87   13.0           Michigan   \n",
       "4  Vintner's Reserve Wild Child Block      87   65.0             Oregon   \n",
       "\n",
       "              region_1           region_2               winery         variety  \n",
       "0                 Etna                NaN              Nicosia     White Blend  \n",
       "1                  NaN                NaN  Quinta dos Avidagos  Portuguese Red  \n",
       "2    Willamette Valley  Willamette Valley            Rainstorm      Pinot Gris  \n",
       "3  Lake Michigan Shore                NaN           St. Julian        Riesling  \n",
       "4    Willamette Valley  Willamette Valley         Sweet Cheeks      Pinot Noir  "
      ]
     },
     "execution_count": 3,
     "metadata": {},
     "output_type": "execute_result"
    }
   ],
   "source": [
    "dataset.head()"
   ]
  },
  {
   "cell_type": "code",
   "execution_count": 4,
   "metadata": {
    "_uuid": "fd8ef68dc0899c1b4db9f1d4a98b7fba6ac3a79f"
   },
   "outputs": [
    {
     "name": "stdout",
     "output_type": "stream",
     "text": [
      "<class 'pandas.core.frame.DataFrame'>\n",
      "RangeIndex: 103322 entries, 0 to 103321\n",
      "Data columns (total 12 columns):\n",
      " #   Column              Non-Null Count   Dtype  \n",
      "---  ------              --------------   -----  \n",
      " 0   user_name           79191 non-null   object \n",
      " 1   country             103283 non-null  object \n",
      " 2   review_title        103322 non-null  object \n",
      " 3   review_description  103322 non-null  object \n",
      " 4   designation         73686 non-null   object \n",
      " 5   points              103322 non-null  int64  \n",
      " 6   price               96359 non-null   float64\n",
      " 7   province            103283 non-null  object \n",
      " 8   region_1            87254 non-null   object \n",
      " 9   region_2            44863 non-null   object \n",
      " 10  winery              103322 non-null  object \n",
      " 11  variety             103322 non-null  object \n",
      "dtypes: float64(1), int64(1), object(10)\n",
      "memory usage: 9.5+ MB\n"
     ]
    }
   ],
   "source": [
    "dataset.info()"
   ]
  },
  {
   "cell_type": "code",
   "execution_count": null,
   "metadata": {
    "_uuid": "04dae95b1478caea9ffd1b9e64860483f2d90eca"
   },
   "outputs": [],
   "source": [
    "dataset.dropna(axis=0)"
   ]
  },
  {
   "cell_type": "code",
   "execution_count": 5,
   "metadata": {},
   "outputs": [
    {
     "data": {
      "text/plain": [
       "Index(['user_name', 'country', 'review_title', 'review_description',\n",
       "       'designation', 'points', 'price', 'province', 'region_1', 'region_2',\n",
       "       'winery', 'variety'],\n",
       "      dtype='object')"
      ]
     },
     "execution_count": 5,
     "metadata": {},
     "output_type": "execute_result"
    }
   ],
   "source": [
    "dataset.columns"
   ]
  },
  {
   "cell_type": "code",
   "execution_count": null,
   "metadata": {},
   "outputs": [],
   "source": []
  },
  {
   "cell_type": "code",
   "execution_count": 6,
   "metadata": {},
   "outputs": [],
   "source": [
    "dataset =dataset.rename(columns={'review_description':'description'})"
   ]
  },
  {
   "cell_type": "code",
   "execution_count": 7,
   "metadata": {
    "_uuid": "13b54c41ec7be73b1bde1f77ed5d5c452699f572"
   },
   "outputs": [],
   "source": [
    "input_data = dataset['description']\n",
    "output_data = dataset['variety']"
   ]
  },
  {
   "cell_type": "markdown",
   "metadata": {
    "_uuid": "81d9b97cdf5b111f91d99cf980a5a506ecd72ea9"
   },
   "source": [
    "How many varieties of wine do we have in this dataset?"
   ]
  },
  {
   "cell_type": "code",
   "execution_count": 8,
   "metadata": {
    "_uuid": "5ba43c0ba3bba5313b34bad521afafe35ac514c0"
   },
   "outputs": [
    {
     "name": "stdout",
     "output_type": "stream",
     "text": [
      "There are 28 varieties of wines in this dataset\n"
     ]
    }
   ],
   "source": [
    "print ('There are %d varieties of wines in this dataset' % len(set(output_data)))"
   ]
  },
  {
   "cell_type": "code",
   "execution_count": 9,
   "metadata": {
    "_uuid": "b00c4f4523aa1ad718167ab9c3abd65580dcf95e"
   },
   "outputs": [
    {
     "data": {
      "text/plain": [
       "array([26, 15, 13, ...,  7, 13,  7])"
      ]
     },
     "execution_count": 9,
     "metadata": {},
     "output_type": "execute_result"
    }
   ],
   "source": [
    "labelEncoder = LabelEncoder()\n",
    "output_data = labelEncoder.fit_transform(output_data)\n",
    "output_data"
   ]
  },
  {
   "cell_type": "markdown",
   "metadata": {
    "_uuid": "83aff38356e7a3eb3a2f14376bd4e01ae1e2722f"
   },
   "source": [
    "Now it is time to clean the description data"
   ]
  },
  {
   "cell_type": "code",
   "execution_count": 10,
   "metadata": {
    "_uuid": "f45d0ff950b41c3490e725bac78c2422d3aef501"
   },
   "outputs": [],
   "source": [
    "input_data = input_data.str.lower()"
   ]
  },
  {
   "cell_type": "code",
   "execution_count": 11,
   "metadata": {
    "_uuid": "bdebd714e37a880e69e4b1e5bb651559d9f0ded1"
   },
   "outputs": [],
   "source": [
    "list_aux = []\n",
    "for phase_word in input_data:\n",
    "    list_aux.append(' '.join([re.sub('[0-9\\W_]', '', word) for word in phase_word.split() if not word in sw]))\n",
    "input_data = list_aux"
   ]
  },
  {
   "cell_type": "code",
   "execution_count": 12,
   "metadata": {
    "_uuid": "594390d40cc0e762241fd3f04bd5bceb0119745a"
   },
   "outputs": [],
   "source": [
    "countVectorizer = CountVectorizer()\n",
    "input_data = countVectorizer.fit_transform(input_data)"
   ]
  },
  {
   "cell_type": "code",
   "execution_count": 13,
   "metadata": {
    "_uuid": "b54520377190fde10b84b68f79739d55c0b90e04"
   },
   "outputs": [],
   "source": [
    "X_train, X_test, y_train, y_test = train_test_split(input_data, output_data, test_size=0.2, stratify = output_data) "
   ]
  },
  {
   "cell_type": "code",
   "execution_count": 28,
   "metadata": {},
   "outputs": [
    {
     "data": {
      "text/plain": [
       "(82657,)"
      ]
     },
     "execution_count": 28,
     "metadata": {},
     "output_type": "execute_result"
    }
   ],
   "source": [
    "y_train.shape"
   ]
  },
  {
   "cell_type": "code",
   "execution_count": null,
   "metadata": {},
   "outputs": [],
   "source": []
  },
  {
   "cell_type": "code",
   "execution_count": 29,
   "metadata": {},
   "outputs": [],
   "source": [
    "from xgboost import XGBClassifier"
   ]
  },
  {
   "cell_type": "code",
   "execution_count": 30,
   "metadata": {},
   "outputs": [],
   "source": [
    "xgb = XGBClassifier().fit(X_train, y_train)"
   ]
  },
  {
   "cell_type": "code",
   "execution_count": 31,
   "metadata": {},
   "outputs": [],
   "source": [
    "pred  = xgb.predict(X_test)"
   ]
  },
  {
   "cell_type": "code",
   "execution_count": 32,
   "metadata": {},
   "outputs": [],
   "source": [
    "from sklearn.metrics import accuracy_score"
   ]
  },
  {
   "cell_type": "code",
   "execution_count": 50,
   "metadata": {},
   "outputs": [],
   "source": [
    "# accuracy of test data"
   ]
  },
  {
   "cell_type": "code",
   "execution_count": 33,
   "metadata": {},
   "outputs": [
    {
     "data": {
      "text/plain": [
       "0.6986692475199613"
      ]
     },
     "execution_count": 33,
     "metadata": {},
     "output_type": "execute_result"
    }
   ],
   "source": [
    "accuracy_score(pred, y_test)"
   ]
  },
  {
   "cell_type": "markdown",
   "metadata": {},
   "source": [
    "## future\n",
    "- deep learninig model\n",
    "-  algorithmns and parameter tuning for better perfomance using grid search or radomised search cross validation\n"
   ]
  },
  {
   "cell_type": "code",
   "execution_count": null,
   "metadata": {},
   "outputs": [],
   "source": []
  }
 ],
 "metadata": {
  "anaconda-cloud": {},
  "kernelspec": {
   "display_name": "Python 3",
   "language": "python",
   "name": "python3"
  },
  "language_info": {
   "codemirror_mode": {
    "name": "ipython",
    "version": 3
   },
   "file_extension": ".py",
   "mimetype": "text/x-python",
   "name": "python",
   "nbconvert_exporter": "python",
   "pygments_lexer": "ipython3",
   "version": "3.7.6"
  }
 },
 "nbformat": 4,
 "nbformat_minor": 1
}
